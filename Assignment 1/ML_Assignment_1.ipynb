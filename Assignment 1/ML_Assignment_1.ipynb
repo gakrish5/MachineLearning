{
 "cells": [
  {
   "cell_type": "code",
   "execution_count": 1,
   "id": "df9845a4",
   "metadata": {
    "scrolled": true
   },
   "outputs": [
    {
     "name": "stdout",
     "output_type": "stream",
     "text": [
      "declared ages list: [19, 22, 19, 24, 20, 25, 26, 24, 25, 24]\n",
      "Sorted ages list: [19, 19, 20, 22, 24, 24, 24, 25, 25, 26]\n",
      "Minimum Age: 19\n",
      "Maximum Age: 26\n",
      "---------------------------------------------------------------------------------------------\n",
      "After adding min and max age, the ages list: [19, 19, 20, 22, 24, 24, 24, 25, 25, 26, 19, 26]\n",
      "---------------------------------------------------------------------------------------------\n",
      "Median of the ages list: 24.0\n",
      "---------------------------------------------------------------------------------------------\n",
      "Average of the ages list: 22.75\n",
      "---------------------------------------------------------------------------------------------\n",
      "Range of the ages list: 7\n"
     ]
    }
   ],
   "source": [
    "#To find the median of the list, importing the statistics module\n",
    "import statistics\n",
    "\n",
    "#declared a list with 10 students ages\n",
    "ages = [19, 22, 19, 24, 20, 25, 26, 24, 25, 24]\n",
    "print(\"declared ages list:\",ages)\n",
    "\n",
    "#to sort the ages list sort() function is used\n",
    "ages.sort()\n",
    "print(\"Sorted ages list:\", ages)\n",
    "\n",
    "#Finding Min age of the ages list\n",
    "minimum_age = min(ages)\n",
    "print(\"Minimum Age:\", minimum_age)\n",
    "\n",
    "#Finding Max age of the ages list\n",
    "maximum_age = max(ages)\n",
    "print(\"Maximum Age:\", maximum_age)\n",
    "print(\"---------------------------------------------------------------------------------------------\")\n",
    "\n",
    "#adding min and max age again to the ages list using append() function\n",
    "ages.append(minimum_age)\n",
    "ages.append(maximum_age)\n",
    "print(\"After adding min and max age, the ages list:\", ages)\n",
    "print(\"---------------------------------------------------------------------------------------------\")\n",
    "\n",
    "print(\"Median of the ages list:\", statistics.median(ages)) #finding the median of the ages list\n",
    "print(\"---------------------------------------------------------------------------------------------\")\n",
    "print(\"Average of the ages list:\", sum(ages)/len(ages)) #finding the averages of the ages list\n",
    "print(\"---------------------------------------------------------------------------------------------\")\n",
    "print(\"Range of the ages list:\", max(ages)-min(ages)) #finding the range of ages list"
   ]
  },
  {
   "cell_type": "code",
   "execution_count": 2,
   "id": "b6dc7210",
   "metadata": {},
   "outputs": [
    {
     "name": "stdout",
     "output_type": "stream",
     "text": [
      "<class 'dict'>\n",
      "{'name': 'Rocky', 'color': 'Gold', 'breed': 'Golden Retriever', 'legs': 4, 'age': 1}\n",
      "-----------------------------------------------------------------------------------------------------------------------\n",
      "dog dictionary keys as a list:\n",
      " dict_keys(['name', 'color', 'breed', 'legs', 'age'])\n",
      "-----------------------------------------------------------------------------------------------------------------------\n",
      "dog dictionary values as a list:\n",
      " dict_values(['Rocky', 'Gold', 'Golden Retriever', 4, 1])\n",
      "-----------------------------------------------------------------------------------------------------------------------\n",
      "{'first_name': 'Aravinda Krishna', 'last_name': 'Gorantla', 'gender': 'Male', 'age': 26, 'marital_status': 'Unmarried', 'skills': ['Python', 'MongoDB', 'Neo4j', 'SQL'], 'country': 'United States', 'city': 'Overland Park', 'address': {'street': '11250 Glenwood St', 'Zipcode': 66211}}\n",
      "-----------------------------------------------------------------------------------------------------------------------\n",
      "Length of student dictionary: 9\n",
      "-----------------------------------------------------------------------------------------------------------------------\n",
      "['Python', 'MongoDB', 'Neo4j', 'SQL']\n",
      "<class 'list'>\n",
      "-----------------------------------------------------------------------------------------------------------------------\n",
      "['Python', 'MongoDB', 'Neo4j', 'SQL', 'Java', 'Machine Learning']\n",
      "-----------------------------------------------------------------------------------------------------------------------\n",
      "Student dictionary keys as a list:\n",
      " dict_keys(['first_name', 'last_name', 'gender', 'age', 'marital_status', 'skills', 'country', 'city', 'address'])\n",
      "-----------------------------------------------------------------------------------------------------------------------\n",
      "Student dictionary values as a list:\n",
      " dict_values(['Aravinda Krishna', 'Gorantla', 'Male', 26, 'Unmarried', ['Python', 'MongoDB', 'Neo4j', 'SQL', 'Java', 'Machine Learning'], 'United States', 'Overland Park', {'street': '11250 Glenwood St', 'Zipcode': 66211}])\n",
      "-----------------------------------------------------------------------------------------------------------------------\n"
     ]
    }
   ],
   "source": [
    "dog = {} #creating an empty dictionary named as dog\n",
    "print(type(dog)) #printing the data type of dog variable\n",
    "#assigning key-value pairs to the dog dictionary\n",
    "dog[\"name\"] = \"Rocky\" \n",
    "dog[\"color\"] = \"Gold\"\n",
    "dog[\"breed\"] = \"Golden Retriever\"\n",
    "dog[\"legs\"] = 4\n",
    "dog[\"age\"] = 1\n",
    "\n",
    "print(dog) #printing the dog dictionary\n",
    "print(\"-----------------------------------------------------------------------------------------------------------------------\")\n",
    "print(\"dog dictionary keys as a list:\\n\", dog.keys()) #printing the keys of dog dictionary\n",
    "print(\"-----------------------------------------------------------------------------------------------------------------------\")\n",
    "print(\"dog dictionary values as a list:\\n\", dog.values()) #printing the values of dog dictionary\n",
    "print(\"-----------------------------------------------------------------------------------------------------------------------\")\n",
    "\n",
    "#creating a dictionary named as student and assigning key-value pairs\n",
    "student = {'first_name': 'Aravinda Krishna', \n",
    "            'last_name': 'Gorantla', \n",
    "            'gender': 'Male', \n",
    "            'age': 26, \n",
    "            'marital_status': 'Unmarried', \n",
    "            'skills': ['Python', 'MongoDB', 'Neo4j', 'SQL'], \n",
    "            'country': 'United States', \n",
    "            'city': 'Overland Park', \n",
    "            'address': {'street': '11250 Glenwood St', 'Zipcode': 66211}}\n",
    "\n",
    "print(student) #printing the student dictionary\n",
    "\n",
    "print(\"-----------------------------------------------------------------------------------------------------------------------\")\n",
    "print(\"Length of student dictionary:\", len(student)) #printing the length of the student dictionary\n",
    "print(\"-----------------------------------------------------------------------------------------------------------------------\")\n",
    "print(student[\"skills\"]) #printing values of skills\n",
    "print(type(student[\"skills\"])) #printing the data type of skills in the dictionary\n",
    "print(\"-----------------------------------------------------------------------------------------------------------------------\")\n",
    "\n",
    "#adding new skills to the skills list\n",
    "student[\"skills\"].append(\"Java\") \n",
    "student[\"skills\"].append(\"Machine Learning\")\n",
    "print(student[\"skills\"])\n",
    "print(\"-----------------------------------------------------------------------------------------------------------------------\")\n",
    "print(\"Student dictionary keys as a list:\\n\", student.keys()) #printing the keys of student dictionary\n",
    "print(\"-----------------------------------------------------------------------------------------------------------------------\")\n",
    "print(\"Student dictionary values as a list:\\n\", student.values()) #printing the values of student dictionary\n",
    "print(\"-----------------------------------------------------------------------------------------------------------------------\")"
   ]
  },
  {
   "cell_type": "code",
   "execution_count": 3,
   "id": "4525b625",
   "metadata": {},
   "outputs": [
    {
     "name": "stdout",
     "output_type": "stream",
     "text": [
      "('Sankar', 'Sumanth', 'Ruthvik', 'Karthik', 'Siri', 'Chinni', 'Chinnari')\n",
      "-------------------------------------------------------------------------------------------------------------\n",
      "No of Siblings:  7\n",
      "-------------------------------------------------------------------------------------------------------------\n",
      "('Sankar', 'Sumanth', 'Ruthvik', 'Karthik', 'Siri', 'Chinni', 'Chinnari', 'Siva Sankara Rao', 'Hema Lakshmi')\n"
     ]
    }
   ],
   "source": [
    "sisters = (\"Siri\",\"Chinni\",\"Chinnari\") #sisters tuple\n",
    "brothers = (\"Sankar\",\"Sumanth\",\"Ruthvik\",\"Karthik\") #brothers tuple\n",
    "siblings = brothers + sisters #Joining the tuples sisters and brothers\n",
    "print(siblings)\n",
    "print(\"-------------------------------------------------------------------------------------------------------------\")\n",
    "print(\"No of Siblings: \", len(siblings)) #pqrinting the length of the siblings tuple\n",
    "print(\"-------------------------------------------------------------------------------------------------------------\")\n",
    "siblings_list = list(siblings) #converting the siblings tuple to list\n",
    "\n",
    "#Modifying the siblings list by appending father and mother name\n",
    "siblings_list.append(\"Siva Sankara Rao\")\n",
    "siblings_list.append(\"Hema Lakshmi\")\n",
    "family_members = tuple(siblings_list) #converting the list into tuple\n",
    "print(family_members)"
   ]
  },
  {
   "cell_type": "code",
   "execution_count": 4,
   "id": "b4569c91",
   "metadata": {},
   "outputs": [
    {
     "name": "stdout",
     "output_type": "stream",
     "text": [
      "Length of the set it_companies:  7\n",
      "------------------------------------------------------------------------------------------------\n",
      "{'Oracle', 'Twitter', 'IBM', 'Google', 'Facebook', 'Apple', 'Amazon', 'Microsoft'}\n",
      "------------------------------------------------------------------------------------------------\n",
      "{'Twitter', 'Infosys', 'Facebook', 'Alpha', 'Google', 'IBM', 'Oracle', 'Amazon', 'Microsoft', 'Tesla', 'Apple'}\n",
      "------------------------------------------------------------------------------------------------\n",
      "{'Twitter', 'Infosys', 'Facebook', 'Alpha', 'Google', 'IBM', 'Oracle', 'Microsoft', 'Tesla', 'Apple'}\n",
      "------------------------------------------------------------------------------------------------\n",
      "Union of A and B:  {19, 20, 22, 24, 25, 26, 27, 28}\n",
      "------------------------------------------------------------------------------------------------\n",
      "Intersection of A and B:  {19, 20, 22, 24, 25, 26}\n",
      "------------------------------------------------------------------------------------------------\n",
      "Is A subset of B:  True\n",
      "------------------------------------------------------------------------------------------------\n",
      "Are A and B disjoint sets:  False\n",
      "------------------------------------------------------------------------------------------------\n",
      "After joining A with B:  {19, 20, 22, 24, 25, 26, 27, 28}\n",
      "After joining B with A:  {19, 20, 22, 24, 25, 26, 27, 28}\n",
      "------------------------------------------------------------------------------------------------\n",
      "Symmetric difference of A and B:  {27, 28}\n",
      "------------------------------------------------------------------------------------------------\n",
      "Length of list age:  8\n",
      "Length of age_set is:  5\n",
      "------------------------------------------------------------------------------------------------\n"
     ]
    }
   ],
   "source": [
    "it_companies = {'Facebook', 'Google', 'Microsoft', 'Apple', 'IBM', 'Oracle', 'Amazon'}\n",
    "A = {19, 22, 24, 20, 25, 26}\n",
    "B = {19, 22, 20, 25, 26, 24, 28, 27}\n",
    "age = [22, 19, 24, 25, 26, 24, 25, 24]\n",
    "print(\"Length of the set it_companies: \",len(it_companies)) #Printing the length of the set: it_companies\n",
    "print(\"------------------------------------------------------------------------------------------------\")\n",
    "it_companies.add(\"Twitter\") #adding twitter to the set: it_companies\n",
    "print(it_companies)\n",
    "print(\"------------------------------------------------------------------------------------------------\")\n",
    "it_companies.update([\"Alpha\",\"Infosys\",\"Tesla\"]) #adding multiple companies to the set: it_companies\n",
    "print(it_companies)\n",
    "print(\"------------------------------------------------------------------------------------------------\")\n",
    "it_companies.remove(\"Amazon\") #removing the company Amazon from the set: it_companies\n",
    "print(it_companies)\n",
    "\n",
    "'''it_companies.remove(\"Amazon\")''' #When we try to remove Amazon again, we will get an error as it is not present in the set\n",
    "it_companies.discard(\"Amazon\") #if we use discard, then we dont get any error even if it is not present in the set\n",
    "\n",
    "'''remove() raises an error when the element not exists in the set. where as discard() does not raise any error\n",
    "even if the element is not found in the set'''\n",
    "print(\"------------------------------------------------------------------------------------------------\")\n",
    "\n",
    "C = A | B #performs the union of A and B sets\n",
    "print(\"Union of A and B: \",C)\n",
    "print(\"------------------------------------------------------------------------------------------------\")\n",
    "D = A & B #performs the intersection of A and B sets\n",
    "print(\"Intersection of A and B: \",D)\n",
    "print(\"------------------------------------------------------------------------------------------------\")\n",
    "print(\"Is A subset of B: \",A.issubset(B)) #checking if A is subset of B\n",
    "print(\"------------------------------------------------------------------------------------------------\")\n",
    "print(\"Are A and B disjoint sets: \",A.isdisjoint(B)) #checking whether the intersection of A and B is null or not\n",
    "print(\"------------------------------------------------------------------------------------------------\")\n",
    "print(\"After joining A with B: \",A.union(B)) #joining A with B\n",
    "print(\"After joining B with A: \",B.union(A)) #joining B with A\n",
    "print(\"------------------------------------------------------------------------------------------------\")\n",
    "print(\"Symmetric difference of A and B: \",A.symmetric_difference(B)) #printing the compliment of A intersection B\n",
    "print(\"------------------------------------------------------------------------------------------------\")\n",
    "del it_companies #deleting the set it_companies\n",
    "del A  #deleting the set A\n",
    "del B  #deleting the set B\n",
    "del C  #deleting the set C\n",
    "del D  #deleting the set D\n",
    "\n",
    "age_set = set(age) #converting the age list into a set\n",
    "print(\"Length of list age: \",len(age)) #printing the length of the age list\n",
    "print(\"Length of age_set is: \",len(age_set)) #printing the length of age_set\n",
    "print(\"------------------------------------------------------------------------------------------------\")"
   ]
  },
  {
   "cell_type": "code",
   "execution_count": 5,
   "id": "2fad6e65",
   "metadata": {},
   "outputs": [
    {
     "name": "stdout",
     "output_type": "stream",
     "text": [
      "Area of circle with radius 30 is:  2826.0\n",
      "Circumfrence of a circle with radius 30 is:  188.4\n",
      "Enter radius: 35\n",
      "Area of circle with radius 35.0  is:  3846.5\n"
     ]
    }
   ],
   "source": [
    "radius = 30 #initialising the radius of circle as 30\n",
    "\n",
    "#calculating the area of circle using the formula pie*r*r\n",
    "_area_of_circle_ = 3.14*(radius**2) \n",
    "print(\"Area of circle with radius 30 is: \", _area_of_circle_)\n",
    "#calculating the circumfrence of circle using the formula 2*pie*r\n",
    "_circum_of_circle_ = 2*3.14*radius \n",
    "print(\"Circumfrence of a circle with radius 30 is: \", _circum_of_circle_)\n",
    "\n",
    "#taking the radius as input from user \n",
    "rad = float(input(\"Enter radius: \")) \n",
    "#calculating the area of circle for the given radius\n",
    "area = 3.14*(rad**2)\n",
    "print(\"Area of circle with radius\", rad, \" is: \", area)"
   ]
  },
  {
   "cell_type": "code",
   "execution_count": 6,
   "id": "dd6f105c",
   "metadata": {},
   "outputs": [
    {
     "name": "stdout",
     "output_type": "stream",
     "text": [
      "Number of unique words from the sentence is:  10\n",
      "Unique words from the sentence is:  {'people', 'inspire', 'am', 'to', 'and', 'a', 'teach', 'I', 'love', 'teacher'}\n"
     ]
    }
   ],
   "source": [
    "string = \"I am a teacher and I love to inspire and teach people\" #given sentence\n",
    "#splitting the given sentence using the space as a delimiter\n",
    "words = string.split(\" \")\n",
    "\n",
    "#eliminating the duplicate words by converting it into set\n",
    "words_set = set(words)\n",
    "\n",
    "print(\"Number of unique words from the sentence is: \",len(words_set)) #printing the length of set with unique words\n",
    "print(\"Unique words from the sentence is: \",words_set) #printing the set of unique words"
   ]
  },
  {
   "cell_type": "code",
   "execution_count": 7,
   "id": "76ab4be5",
   "metadata": {},
   "outputs": [
    {
     "name": "stdout",
     "output_type": "stream",
     "text": [
      "Name\t\tAge\tCountry\t\tCity\n",
      "Asabeneh\t250\tFinland\t\tHelsinki\n"
     ]
    }
   ],
   "source": [
    "# '\\' is an escape character and \\t gives a tab space, \\n gives a new line\n",
    "#printing in a single print statement by using the tab space, new line\n",
    "print(\"Name\\t\\tAge\\tCountry\\t\\tCity\\nAsabeneh\\t250\\tFinland\\t\\tHelsinki\")"
   ]
  },
  {
   "cell_type": "code",
   "execution_count": 8,
   "id": "094ffc74",
   "metadata": {},
   "outputs": [
    {
     "name": "stdout",
     "output_type": "stream",
     "text": [
      "The area of a circle with radius 10 is 314 meters square\n"
     ]
    }
   ],
   "source": [
    "radius = 10 #initializing radius to 10\n",
    "area = 3.14*radius**2 #calculating the area\n",
    "\n",
    "#printing the result with text\n",
    "print(\"The area of a circle with radius {} is {} meters square\".format(radius,int(area)))"
   ]
  },
  {
   "cell_type": "code",
   "execution_count": 9,
   "id": "464bea34",
   "metadata": {},
   "outputs": [
    {
     "name": "stdout",
     "output_type": "stream",
     "text": [
      "Enter number of Students:3\n",
      "Enter the Weight of Student 1 in lbs: 35\n",
      "Enter the Weight of Student 2 in lbs: 36\n",
      "Enter the Weight of Student 3 in lbs: 37\n",
      "\n",
      "Weights of 3 Students in lbs:  [35, 36, 37]\n",
      "Weights of 3 Students in Kgs:  [15.87565, 16.32924, 16.78283]\n"
     ]
    }
   ],
   "source": [
    "a = N = int(input(\"Enter number of Students:\")) #taking number of weights as N\n",
    "lbs_list = [] #empty list to store weights in lbs\n",
    "i=1\n",
    "\n",
    "#while loop is used to get all the weights in lbs from user\n",
    "while(N != 0):\n",
    "    m = int(input(\"Enter the Weight of Student {} in lbs: \".format(i))) #input of weights from user\n",
    "    lbs_list.append(m) #appending each weight to the lbs_list\n",
    "    N = N - 1\n",
    "    i = i + 1\n",
    "print(\"\\nWeights of {} Students in lbs: \".format(a), lbs_list)\n",
    "\n",
    "kgs_list = [] #empty list to store weights in kgs\n",
    "N = len(lbs_list)\n",
    "j = 0\n",
    "while(j != N): #while loop helps us to iterate through lbs_list\n",
    "    kgs_list.append(lbs_list[j]*0.45359) #converts the weights from lbs to kgs and appends to kgs_list\n",
    "    j = j + 1\n",
    "print(\"Weights of {} Students in Kgs: \".format(a), kgs_list)"
   ]
  }
 ],
 "metadata": {
  "kernelspec": {
   "display_name": "Python 3 (ipykernel)",
   "language": "python",
   "name": "python3"
  },
  "language_info": {
   "codemirror_mode": {
    "name": "ipython",
    "version": 3
   },
   "file_extension": ".py",
   "mimetype": "text/x-python",
   "name": "python",
   "nbconvert_exporter": "python",
   "pygments_lexer": "ipython3",
   "version": "3.9.13"
  }
 },
 "nbformat": 4,
 "nbformat_minor": 5
}
