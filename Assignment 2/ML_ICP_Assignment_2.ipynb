{
 "cells": [
  {
   "cell_type": "markdown",
   "id": "99e8d085",
   "metadata": {},
   "source": [
    "# Question 1"
   ]
  },
  {
   "cell_type": "code",
   "execution_count": 23,
   "id": "9817cb48",
   "metadata": {},
   "outputs": [
    {
     "name": "stdout",
     "output_type": "stream",
     "text": [
      "\n",
      "* \n",
      "* * \n",
      "* * * \n",
      "* * * * \n",
      "* * * * * \n",
      "* * * * \n",
      "* * * \n",
      "* * \n",
      "* \n"
     ]
    }
   ],
   "source": [
    "rows = 5 #gives the max. stars in a line\n",
    "\n",
    "for i in range(0, rows+1):\n",
    "    #prints required no. of stars in each line by incrementing the value of i\n",
    "    print(\"* \" * i)\n",
    "\n",
    "for j in range(rows-1, 0, -1):\n",
    "    #prints required no. of stars in each line by decrementing the value of j as step value is given by -1\n",
    "    print(\"* \" * j)"
   ]
  },
  {
   "cell_type": "markdown",
   "id": "85304241",
   "metadata": {},
   "source": [
    "# Question 2"
   ]
  },
  {
   "cell_type": "code",
   "execution_count": 24,
   "id": "a6ea7a33",
   "metadata": {},
   "outputs": [
    {
     "name": "stdout",
     "output_type": "stream",
     "text": [
      "20\n",
      "40\n",
      "60\n",
      "80\n",
      "100\n",
      "\n",
      "Odd indexes elements list: [20, 40, 60, 80, 100]\n"
     ]
    }
   ],
   "source": [
    "my_list = [10, 20, 30, 40, 50, 60, 70, 80, 90, 100] #input list\n",
    "odd_elements = [] #empty list\n",
    "\n",
    "for i in range(0, len(my_list)):\n",
    "    if i%2 != 0:  #checking the odd index\n",
    "        odd_elements.append(my_list[i]) #appending the elements to a list\n",
    "        print(my_list[i]) #printing individual elements\n",
    "\n",
    "print(\"\\nOdd indexes elements list:\", odd_elements) #printing the list of odd ondex elements"
   ]
  },
  {
   "cell_type": "markdown",
   "id": "4e3f5f3f",
   "metadata": {},
   "source": [
    "# Question 3"
   ]
  },
  {
   "cell_type": "code",
   "execution_count": 25,
   "id": "4fcfc9ef",
   "metadata": {},
   "outputs": [
    {
     "name": "stdout",
     "output_type": "stream",
     "text": [
      "[23, 'Python', 23.98]\n",
      "[<class 'int'>, <class 'str'>, <class 'float'>]\n"
     ]
    }
   ],
   "source": [
    "x = [23, \"Python\", 23.98] #input list\n",
    "y = [] #empty list\n",
    "\n",
    "for i in x:\n",
    "    y.append(type(i)) #appending the type of elements in x list to y list\n",
    "    \n",
    "print(x) #printing x list\n",
    "print(y) #printing y list"
   ]
  },
  {
   "cell_type": "markdown",
   "id": "53f6d11c",
   "metadata": {},
   "source": [
    "# Question 4\n"
   ]
  },
  {
   "cell_type": "code",
   "execution_count": 26,
   "id": "234200d7",
   "metadata": {},
   "outputs": [
    {
     "name": "stdout",
     "output_type": "stream",
     "text": [
      "unique list: [1, 2, 3, 4, 5]\n"
     ]
    }
   ],
   "source": [
    "#function to return unique items of input list\n",
    "def unique(list1): \n",
    "    list2 = list(set(list1)) #set removes duplicates\n",
    "    return list2\n",
    "\n",
    "list1 = [1,2,3,3,3,3,4,5] #input list\n",
    "print(\"unique list:\", unique(list1)) #function call"
   ]
  },
  {
   "cell_type": "markdown",
   "id": "2b3695b0",
   "metadata": {},
   "source": [
    "# Question 5"
   ]
  },
  {
   "cell_type": "code",
   "execution_count": 27,
   "id": "5ee5b960",
   "metadata": {},
   "outputs": [
    {
     "name": "stdout",
     "output_type": "stream",
     "text": [
      "No. of Upper-case characters: 3 \n",
      "No. of Lower-case Characters: 12\n"
     ]
    }
   ],
   "source": [
    "def lettercase(str1):\n",
    "    up = 0; low = 0\n",
    "    for i in str1:\n",
    "        if i.isupper(): #checking upper case\n",
    "            up += 1\n",
    "        elif i == ' ': #checking space character\n",
    "            continue\n",
    "        else: #other than upper case and space char => lower case\n",
    "            low += 1\n",
    "    \n",
    "    #printing required output\n",
    "    print(\"No. of Upper-case characters: {} \\nNo. of Lower-case Characters: {}\".format(up, low))\n",
    "\n",
    "\n",
    "string ='The quick Brow Fox' #Input string\n",
    "lettercase(string) #function call"
   ]
  }
 ],
 "metadata": {
  "kernelspec": {
   "display_name": "Python 3 (ipykernel)",
   "language": "python",
   "name": "python3"
  },
  "language_info": {
   "codemirror_mode": {
    "name": "ipython",
    "version": 3
   },
   "file_extension": ".py",
   "mimetype": "text/x-python",
   "name": "python",
   "nbconvert_exporter": "python",
   "pygments_lexer": "ipython3",
   "version": "3.9.13"
  }
 },
 "nbformat": 4,
 "nbformat_minor": 5
}
